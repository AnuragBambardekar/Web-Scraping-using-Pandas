{
 "cells": [
  {
   "attachments": {},
   "cell_type": "markdown",
   "metadata": {},
   "source": [
    "# Wikipedia Scraper"
   ]
  },
  {
   "cell_type": "code",
   "execution_count": 20,
   "metadata": {},
   "outputs": [],
   "source": [
    "import pandas as pd\n",
    "import numpy as np"
   ]
  },
  {
   "cell_type": "code",
   "execution_count": 21,
   "metadata": {},
   "outputs": [],
   "source": [
    "dfs = pd.read_html('https://en.wikipedia.org/wiki/List_of_Test_cricket_records')"
   ]
  },
  {
   "cell_type": "code",
   "execution_count": 22,
   "metadata": {},
   "outputs": [
    {
     "data": {
      "text/plain": [
       "78"
      ]
     },
     "execution_count": 22,
     "metadata": {},
     "output_type": "execute_result"
    }
   ],
   "source": [
    "len(dfs)"
   ]
  },
  {
   "cell_type": "code",
   "execution_count": 23,
   "metadata": {},
   "outputs": [
    {
     "data": {
      "text/html": [
       "<div>\n",
       "<style scoped>\n",
       "    .dataframe tbody tr th:only-of-type {\n",
       "        vertical-align: middle;\n",
       "    }\n",
       "\n",
       "    .dataframe tbody tr th {\n",
       "        vertical-align: top;\n",
       "    }\n",
       "\n",
       "    .dataframe thead th {\n",
       "        text-align: right;\n",
       "    }\n",
       "</style>\n",
       "<table border=\"1\" class=\"dataframe\">\n",
       "  <thead>\n",
       "    <tr style=\"text-align: right;\">\n",
       "      <th></th>\n",
       "      <th>0</th>\n",
       "      <th>1</th>\n",
       "      <th>2</th>\n",
       "      <th>3</th>\n",
       "    </tr>\n",
       "  </thead>\n",
       "  <tbody>\n",
       "    <tr>\n",
       "      <th>0</th>\n",
       "      <td>Runs</td>\n",
       "      <td>Innings</td>\n",
       "      <td>Player</td>\n",
       "      <td>Period</td>\n",
       "    </tr>\n",
       "    <tr>\n",
       "      <th>1</th>\n",
       "      <td>15921</td>\n",
       "      <td>329</td>\n",
       "      <td>Sachin Tendulkar</td>\n",
       "      <td>1989–2013</td>\n",
       "    </tr>\n",
       "    <tr>\n",
       "      <th>2</th>\n",
       "      <td>13378</td>\n",
       "      <td>287</td>\n",
       "      <td>Ricky Ponting</td>\n",
       "      <td>1995–2012</td>\n",
       "    </tr>\n",
       "    <tr>\n",
       "      <th>3</th>\n",
       "      <td>13289</td>\n",
       "      <td>280</td>\n",
       "      <td>Jacques Kallis</td>\n",
       "      <td>1995–2013</td>\n",
       "    </tr>\n",
       "    <tr>\n",
       "      <th>4</th>\n",
       "      <td>13288</td>\n",
       "      <td>286</td>\n",
       "      <td>Rahul Dravid</td>\n",
       "      <td>1996–2012</td>\n",
       "    </tr>\n",
       "    <tr>\n",
       "      <th>5</th>\n",
       "      <td>12472</td>\n",
       "      <td>291</td>\n",
       "      <td>Alastair Cook</td>\n",
       "      <td>2006–2018</td>\n",
       "    </tr>\n",
       "    <tr>\n",
       "      <th>6</th>\n",
       "      <td>Last updated: 11 September 2018[39]</td>\n",
       "      <td>Last updated: 11 September 2018[39]</td>\n",
       "      <td>Last updated: 11 September 2018[39]</td>\n",
       "      <td>Last updated: 11 September 2018[39]</td>\n",
       "    </tr>\n",
       "  </tbody>\n",
       "</table>\n",
       "</div>"
      ],
      "text/plain": [
       "                                     0                                    1  \\\n",
       "0                                 Runs                              Innings   \n",
       "1                                15921                                  329   \n",
       "2                                13378                                  287   \n",
       "3                                13289                                  280   \n",
       "4                                13288                                  286   \n",
       "5                                12472                                  291   \n",
       "6  Last updated: 11 September 2018[39]  Last updated: 11 September 2018[39]   \n",
       "\n",
       "                                     2                                    3  \n",
       "0                               Player                               Period  \n",
       "1                     Sachin Tendulkar                            1989–2013  \n",
       "2                        Ricky Ponting                            1995–2012  \n",
       "3                       Jacques Kallis                            1995–2013  \n",
       "4                         Rahul Dravid                            1996–2012  \n",
       "5                        Alastair Cook                            2006–2018  \n",
       "6  Last updated: 11 September 2018[39]  Last updated: 11 September 2018[39]  "
      ]
     },
     "execution_count": 23,
     "metadata": {},
     "output_type": "execute_result"
    }
   ],
   "source": [
    "most_career_runs = dfs[12]\n",
    "most_career_runs"
   ]
  },
  {
   "cell_type": "code",
   "execution_count": 24,
   "metadata": {},
   "outputs": [
    {
     "data": {
      "text/html": [
       "<div>\n",
       "<style scoped>\n",
       "    .dataframe tbody tr th:only-of-type {\n",
       "        vertical-align: middle;\n",
       "    }\n",
       "\n",
       "    .dataframe tbody tr th {\n",
       "        vertical-align: top;\n",
       "    }\n",
       "\n",
       "    .dataframe thead th {\n",
       "        text-align: right;\n",
       "    }\n",
       "</style>\n",
       "<table border=\"1\" class=\"dataframe\">\n",
       "  <thead>\n",
       "    <tr style=\"text-align: right;\">\n",
       "      <th></th>\n",
       "      <th>Runs</th>\n",
       "      <th>Innings</th>\n",
       "      <th>Player</th>\n",
       "      <th>Period</th>\n",
       "    </tr>\n",
       "  </thead>\n",
       "  <tbody>\n",
       "    <tr>\n",
       "      <th>0</th>\n",
       "      <td>15921</td>\n",
       "      <td>329</td>\n",
       "      <td>Sachin Tendulkar</td>\n",
       "      <td>1989–2013</td>\n",
       "    </tr>\n",
       "    <tr>\n",
       "      <th>1</th>\n",
       "      <td>13378</td>\n",
       "      <td>287</td>\n",
       "      <td>Ricky Ponting</td>\n",
       "      <td>1995–2012</td>\n",
       "    </tr>\n",
       "    <tr>\n",
       "      <th>2</th>\n",
       "      <td>13289</td>\n",
       "      <td>280</td>\n",
       "      <td>Jacques Kallis</td>\n",
       "      <td>1995–2013</td>\n",
       "    </tr>\n",
       "    <tr>\n",
       "      <th>3</th>\n",
       "      <td>13288</td>\n",
       "      <td>286</td>\n",
       "      <td>Rahul Dravid</td>\n",
       "      <td>1996–2012</td>\n",
       "    </tr>\n",
       "    <tr>\n",
       "      <th>4</th>\n",
       "      <td>12472</td>\n",
       "      <td>291</td>\n",
       "      <td>Alastair Cook</td>\n",
       "      <td>2006–2018</td>\n",
       "    </tr>\n",
       "  </tbody>\n",
       "</table>\n",
       "</div>"
      ],
      "text/plain": [
       "0   Runs Innings            Player     Period\n",
       "0  15921     329  Sachin Tendulkar  1989–2013\n",
       "1  13378     287     Ricky Ponting  1995–2012\n",
       "2  13289     280    Jacques Kallis  1995–2013\n",
       "3  13288     286      Rahul Dravid  1996–2012\n",
       "4  12472     291     Alastair Cook  2006–2018"
      ]
     },
     "execution_count": 24,
     "metadata": {},
     "output_type": "execute_result"
    }
   ],
   "source": [
    "#make column headers and drop 1st row and last row\n",
    "most_career_runs.columns = most_career_runs.iloc[0]\n",
    "most_career_runs = most_career_runs[1:].reset_index(drop=True)\n",
    "most_career_runs.drop(most_career_runs.tail(1).index,inplace = True)\n",
    "most_career_runs"
   ]
  },
  {
   "cell_type": "code",
   "execution_count": 29,
   "metadata": {},
   "outputs": [
    {
     "data": {
      "text/html": [
       "<div>\n",
       "<style scoped>\n",
       "    .dataframe tbody tr th:only-of-type {\n",
       "        vertical-align: middle;\n",
       "    }\n",
       "\n",
       "    .dataframe tbody tr th {\n",
       "        vertical-align: top;\n",
       "    }\n",
       "\n",
       "    .dataframe thead th {\n",
       "        text-align: right;\n",
       "    }\n",
       "</style>\n",
       "<table border=\"1\" class=\"dataframe\">\n",
       "  <thead>\n",
       "    <tr style=\"text-align: right;\">\n",
       "      <th></th>\n",
       "      <th>Runs</th>\n",
       "      <th>Innings</th>\n",
       "      <th>Player</th>\n",
       "      <th>Period</th>\n",
       "      <th>Player:Period:#Innings</th>\n",
       "    </tr>\n",
       "  </thead>\n",
       "  <tbody>\n",
       "    <tr>\n",
       "      <th>0</th>\n",
       "      <td>15921</td>\n",
       "      <td>329</td>\n",
       "      <td>Sachin Tendulkar</td>\n",
       "      <td>1989–2013</td>\n",
       "      <td>Sachin Tendulkar: 1989–2013: 329 innings</td>\n",
       "    </tr>\n",
       "    <tr>\n",
       "      <th>1</th>\n",
       "      <td>13378</td>\n",
       "      <td>287</td>\n",
       "      <td>Ricky Ponting</td>\n",
       "      <td>1995–2012</td>\n",
       "      <td>Ricky Ponting: 1995–2012: 287 innings</td>\n",
       "    </tr>\n",
       "    <tr>\n",
       "      <th>2</th>\n",
       "      <td>13289</td>\n",
       "      <td>280</td>\n",
       "      <td>Jacques Kallis</td>\n",
       "      <td>1995–2013</td>\n",
       "      <td>Jacques Kallis: 1995–2013: 280 innings</td>\n",
       "    </tr>\n",
       "    <tr>\n",
       "      <th>3</th>\n",
       "      <td>13288</td>\n",
       "      <td>286</td>\n",
       "      <td>Rahul Dravid</td>\n",
       "      <td>1996–2012</td>\n",
       "      <td>Rahul Dravid: 1996–2012: 286 innings</td>\n",
       "    </tr>\n",
       "    <tr>\n",
       "      <th>4</th>\n",
       "      <td>12472</td>\n",
       "      <td>291</td>\n",
       "      <td>Alastair Cook</td>\n",
       "      <td>2006–2018</td>\n",
       "      <td>Alastair Cook: 2006–2018: 291 innings</td>\n",
       "    </tr>\n",
       "  </tbody>\n",
       "</table>\n",
       "</div>"
      ],
      "text/plain": [
       "0   Runs Innings            Player     Period  \\\n",
       "0  15921     329  Sachin Tendulkar  1989–2013   \n",
       "1  13378     287     Ricky Ponting  1995–2012   \n",
       "2  13289     280    Jacques Kallis  1995–2013   \n",
       "3  13288     286      Rahul Dravid  1996–2012   \n",
       "4  12472     291     Alastair Cook  2006–2018   \n",
       "\n",
       "0                    Player:Period:#Innings  \n",
       "0  Sachin Tendulkar: 1989–2013: 329 innings  \n",
       "1     Ricky Ponting: 1995–2012: 287 innings  \n",
       "2    Jacques Kallis: 1995–2013: 280 innings  \n",
       "3      Rahul Dravid: 1996–2012: 286 innings  \n",
       "4     Alastair Cook: 2006–2018: 291 innings  "
      ]
     },
     "execution_count": 29,
     "metadata": {},
     "output_type": "execute_result"
    }
   ],
   "source": [
    "import matplotlib.pyplot as plt\n",
    "plt.style.use('ggplot')\n",
    "most_career_runs['Player:Period:#Innings'] = most_career_runs['Player'] +': '+ most_career_runs['Period'] +': '+ most_career_runs['Innings']+ ' innings'\n",
    "most_career_runs"
   ]
  },
  {
   "cell_type": "code",
   "execution_count": 41,
   "metadata": {},
   "outputs": [
    {
     "data": {
      "text/plain": [
       "Text(0.5, 1.0, 'Most career runs')"
      ]
     },
     "execution_count": 41,
     "metadata": {},
     "output_type": "execute_result"
    },
    {
     "data": {
      "image/png": "[encoded data removed]",
      "text/plain": [
       "<Figure size 1600x900 with 1 Axes>"
      ]
     },
     "metadata": {},
     "output_type": "display_data"
    }
   ],
   "source": [
    "runs = most_career_runs['Runs'].astype('int')\n",
    "player = most_career_runs['Player:Period:#Innings']\n",
    "\n",
    "fig,ax = plt.subplots(figsize=(16,9))\n",
    "ax.barh(player,runs)\n",
    "ax.set_xlabel('Runs')\n",
    "ax.set_ylabel('Player:Period:# innings')\n",
    "ax.set_xlim(10000,16000)\n",
    "\n",
    "ax.set_title('Most career runs' )\n"
   ]
  },
  {
   "cell_type": "code",
   "execution_count": 43,
   "metadata": {},
   "outputs": [],
   "source": [
    "most_career_runs.to_csv('most_career_runs.csv',index=False)"
   ]
  }
 ],
 "metadata": {
  "kernelspec": {
   "display_name": "Python 3",
   "language": "python",
   "name": "python3"
  },
  "language_info": {
   "codemirror_mode": {
    "name": "ipython",
    "version": 3
   },
   "file_extension": ".py",
   "mimetype": "text/x-python",
   "name": "python",
   "nbconvert_exporter": "python",
   "pygments_lexer": "ipython3",
   "version": "3.10.7 (tags/v3.10.7:6cc6b13, Sep  5 2022, 14:08:36) [MSC v.1933 64 bit (AMD64)]"
  },
  "orig_nbformat": 4,
  "vscode": {
   "interpreter": {
    "hash": "fbfacf25abbc4466cbf6a4ec94f71aa428570133f008ac9f4c86deb26a69bb88"
   }
  }
 },
 "nbformat": 4,
 "nbformat_minor": 2
}
